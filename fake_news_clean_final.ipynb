{
 "cells": [
  {
   "cell_type": "markdown",
   "id": "1eee1358",
   "metadata": {},
   "source": [
    "# 📰 Fake News Generator & Detector"
   ]
  },
  {
   "cell_type": "code",
   "execution_count": null,
   "id": "b2b5d705",
   "metadata": {},
   "outputs": [],
   "source": [
    "\n",
    "from transformers import GPT2LMHeadModel, GPT2Tokenizer\n",
    "import gradio as gr\n",
    "import torch\n",
    "import pandas as pd\n",
    "from sklearn.feature_extraction.text import TfidfVectorizer\n",
    "from sklearn.naive_bayes import MultinomialNB\n",
    "from sklearn.calibration import CalibratedClassifierCV\n"
   ]
  },
  {
   "cell_type": "code",
   "execution_count": null,
   "id": "8dbd221b",
   "metadata": {},
   "outputs": [],
   "source": [
    "\n",
    "model_name = \"gpt2\"\n",
    "tokenizer = GPT2Tokenizer.from_pretrained(model_name)\n",
    "model = GPT2LMHeadModel.from_pretrained(model_name)\n"
   ]
  },
  {
   "cell_type": "code",
   "execution_count": null,
   "id": "fb86b24c",
   "metadata": {},
   "outputs": [],
   "source": [
    "\n",
    "def generate_news(prompt, max_length=100):\n",
    "    inputs = tokenizer.encode(prompt, return_tensors=\"pt\")\n",
    "    outputs = model.generate(inputs, max_length=max_length, do_sample=True, top_k=50, top_p=0.95, temperature=0.9)\n",
    "    return tokenizer.decode(outputs[0], skip_special_tokens=True)\n"
   ]
  },
  {
   "cell_type": "code",
   "execution_count": null,
   "id": "f344752d",
   "metadata": {},
   "outputs": [],
   "source": [
    "\n",
    "data = {\n",
    "    'text': [\n",
    "        \"Government launches a new scheme to support farmers.\",\n",
    "        \"Aliens have landed in the Pacific Ocean.\",\n",
    "        \"New study shows benefits of drinking green tea.\",\n",
    "        \"Actor claims to be from another galaxy.\",\n",
    "        \"Election results declared for 2025 polls.\",\n",
    "        \"Scientists find cure for aging using moon dust.\",\n",
    "        \"PM announces new education policy focused on digital learning.\",\n",
    "        \"Vampires spotted in downtown London.\"\n",
    "    ],\n",
    "    'label': [0, 1, 0, 1, 0, 1, 0, 1]\n",
    "}\n",
    "\n",
    "df = pd.DataFrame(data)\n",
    "vectorizer = TfidfVectorizer()\n",
    "X = vectorizer.fit_transform(df['text'])\n",
    "y = df['label']\n",
    "\n",
    "model_nb = CalibratedClassifierCV(estimator=MultinomialNB(), cv=3)\n",
    "model_nb.fit(X, y)\n",
    "\n",
    "def detect_fake_news_confidence(text):\n",
    "    features = vectorizer.transform([text])\n",
    "    prediction = model_nb.predict(features)[0]\n",
    "    proba = model_nb.predict_proba(features)[0][prediction]\n",
    "    label = \"🟢 REAL\" if prediction == 0 else \"🔴 FAKE\"\n",
    "    return f\"{label} ({proba*100:.2f}% confidence)\"\n"
   ]
  },
  {
   "cell_type": "code",
   "execution_count": null,
   "id": "b4d7da80",
   "metadata": {},
   "outputs": [],
   "source": [
    "\n",
    "with gr.Blocks(theme=gr.themes.Base()) as app:\n",
    "    gr.Markdown(\"## 📰 Fake News Generator & Detector\")\n",
    "    gr.Markdown(\"Generate fake news using GPT-2 and detect it using a confidence-calibrated classifier.\")\n",
    "\n",
    "    with gr.Row():\n",
    "        with gr.Column(scale=1):\n",
    "            prompt = gr.Textbox(label=\"Enter News Prompt\")\n",
    "            gen_btn = gr.Button(\"Submit\")\n",
    "            clear_btn = gr.Button(\"Clear\")\n",
    "        with gr.Column(scale=2):\n",
    "            output_news = gr.Textbox(label=\"Generated Headline\")\n",
    "            detection_result = gr.Textbox(label=\"Detection Result\")\n",
    "\n",
    "    def handle_submission(prompt):\n",
    "        generated = generate_news(prompt)\n",
    "        detection = detect_fake_news_confidence(generated)\n",
    "        return generated, detection\n",
    "\n",
    "    gen_btn.click(fn=handle_submission, inputs=prompt, outputs=[output_news, detection_result])\n",
    "    clear_btn.click(fn=lambda: (\"\", \"\"), inputs=None, outputs=[output_news, detection_result])\n",
    "\n",
    "app.launch()\n"
   ]
  }
 ],
 "metadata": {},
 "nbformat": 4,
 "nbformat_minor": 5
}